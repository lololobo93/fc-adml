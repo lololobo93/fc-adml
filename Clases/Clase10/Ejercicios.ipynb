{
 "cells": [
  {
   "cell_type": "markdown",
   "metadata": {},
   "source": [
    "# Ejercicios para regresión lineal"
   ]
  },
  {
   "cell_type": "markdown",
   "metadata": {},
   "source": [
    "Vamos a poner en práctica lo que hemos visto en las clases pasadas. De entrada, cargamos las bibliotecas necesarias"
   ]
  },
  {
   "cell_type": "code",
   "execution_count": null,
   "metadata": {},
   "outputs": [],
   "source": [
    "import numpy as np\n",
    "import pandas as pd\n",
    "import matplotlib.pyplot as plt\n",
    "#Las siguientes dos son sólo para que las gráficas se vean chulas, pueden quitarlas\n",
    "import seaborn as sns\n",
    "sns.set()\n",
    "\n",
    "from score import QLFScore\n",
    "\n",
    "#Para desactivar un warning muy molesto\n",
    "pd.options.mode.chained_assignment = None  # default='warn'"
   ]
  },
  {
   "cell_type": "markdown",
   "metadata": {},
   "source": [
    "## Regresión lineal univariada"
   ]
  },
  {
   "cell_type": "markdown",
   "metadata": {},
   "source": [
    "Considere el problema siguiente: Usted quiere estimar la constante de elasticidad $k$ de un resorte que genera una oscilación en una pelotita de masa $m = 12kg$. La ecuación de su movimiento está dada por\n",
    "\n",
    "$$\\frac{\\partial^2 x(t)}{\\partial t^2} = -\\frac{k}{m} (x(t) - x_0)$$\n",
    "\n",
    "A usted le han sido proporcionados las mediciones de la posición de la pelotita al tiempo $t$, pero vienen con un poco de ruido gaussiano en las coordenadas de la posición. Aproveche que las mediciones fueron tomadas a tiempos regulares y use la apoximación del operador de Laplace con errores a segundo orden:\n",
    "\n",
    "$$ f''(t) \\approx \\frac{f(t + \\Delta t) - 2 f(t) + f(t - \\Delta t)}{\\Delta t^2} + \\mathcal{O}(\\Delta t^2)$$\n",
    "\n",
    "para estimar $k$ y $x_0$ por medio de una regresión lineal. Haga gráficas de dispersión para la aceleración y la posición, además de graficar la linea que mejor aproxima los datos."
   ]
  },
  {
   "cell_type": "code",
   "execution_count": null,
   "metadata": {},
   "outputs": [],
   "source": [
    "#Les dejo mientras tanto los datos para que los vean\n",
    "datos = pd.read_csv('data.csv')"
   ]
  },
  {
   "cell_type": "markdown",
   "metadata": {},
   "source": [
    "## Regresión multivariada"
   ]
  },
  {
   "cell_type": "markdown",
   "metadata": {},
   "source": [
    "Ahora un poco más complicado pero no imposible. El archivo de datos 'casas.csv' contiene información sobre las características de 400 casas apócrifas, incluyendo el precio en el que han sido vendidas."
   ]
  },
  {
   "cell_type": "code",
   "execution_count": null,
   "metadata": {},
   "outputs": [],
   "source": [
    "casas = pd.read_csv('casas.csv')\n",
    "casas.head()"
   ]
  },
  {
   "cell_type": "markdown",
   "metadata": {},
   "source": [
    "Los campos son los siguientes:\n",
    "1. **Precio**: Precio en que la casa fue vendida. Algunas casas son _demasiado caras_ y pueden meter ruido a la predicción.\n",
    "2. **Zona**: Categoría del vecindario en el que la casa se encuentra. Las categorías van del 0 (la zona más fea) al 4 (Al lado del parque _La Mexicana_) Se sabe que los números no representan linealmente el ascenso en precio de las casas.\n",
    "3. **No_Baños**: Número de baños en la casa\n",
    "4. **No_Cuartos**: Número de cuartos en la casa\n",
    "5. **Superficie**: Superficie de la casa\n",
    "\n",
    "Busque un modelo lineal que pueda predecir el costo de una casa en la zona 3, de 2 baños y 4 recámaras con $300m^2$ de superficie.\n",
    "\n",
    "Además de eso, de una interpretación de cada entrada del vector de parámetros del modelo."
   ]
  },
  {
   "cell_type": "code",
   "execution_count": null,
   "metadata": {},
   "outputs": [],
   "source": [
    "#Solución aquí (recuerden que con alt+enter generan más cuadritos para escribir y explicar)"
   ]
  },
  {
   "cell_type": "markdown",
   "metadata": {},
   "source": [
    "Como parte final, para que comiencen a sentir el **poder**, aquí está una función que tomará $c$ el vector parámetro de su modelo, y lo evaluará en una partición de datos conocidos, a ver qué tan bien pueden predecir. La lambda que toma como segundo argumento es una función que se aplica a la columna \"Zona\". Relative es para dividir entre el precio medio aproximado de las casas (Sólo es para hacer el número un tanto más pequeño). Y así es como comienza la competencia."
   ]
  },
  {
   "cell_type": "code",
   "execution_count": null,
   "metadata": {},
   "outputs": [],
   "source": [
    "QLFScore(c, zoneFunction = lambda j: j**2, relative = True)"
   ]
  }
 ],
 "metadata": {
  "kernelspec": {
   "display_name": "Python 3",
   "language": "python",
   "name": "python3"
  },
  "language_info": {
   "codemirror_mode": {
    "name": "ipython",
    "version": 3
   },
   "file_extension": ".py",
   "mimetype": "text/x-python",
   "name": "python",
   "nbconvert_exporter": "python",
   "pygments_lexer": "ipython3",
   "version": "3.6.4"
  }
 },
 "nbformat": 4,
 "nbformat_minor": 2
}
