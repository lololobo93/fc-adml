{
 "cells": [
  {
   "cell_type": "markdown",
   "metadata": {},
   "source": [
    "# Análisis de actividad sísmica en México"
   ]
  },
  {
   "cell_type": "markdown",
   "metadata": {},
   "source": [
    "![Alerta](im.png)"
   ]
  },
  {
   "cell_type": "markdown",
   "metadata": {},
   "source": [
    "Para los que tengan curiosidad de ver cómo se sacó la información de la página del SSN, hay otro .ipynb en este folder donde se explica detalladamente. Lo primero que hay que hacer es cargar los paquetes necesarios. Esto significa importar (e instalar anteriormente) los siguientes paquetes"
   ]
  },
  {
   "cell_type": "code",
   "execution_count": 1,
   "metadata": {},
   "outputs": [
    {
     "ename": "ModuleNotFoundError",
     "evalue": "No module named 'folium'",
     "output_type": "error",
     "traceback": [
      "\u001b[0;31m---------------------------------------------------------------------------\u001b[0m",
      "\u001b[0;31mModuleNotFoundError\u001b[0m                       Traceback (most recent call last)",
      "\u001b[0;32m<ipython-input-1-b153ef8374dd>\u001b[0m in \u001b[0;36m<module>\u001b[0;34m()\u001b[0m\n\u001b[1;32m      3\u001b[0m \u001b[0;32mimport\u001b[0m \u001b[0mmatplotlib\u001b[0m\u001b[0;34m.\u001b[0m\u001b[0mpyplot\u001b[0m \u001b[0;32mas\u001b[0m \u001b[0mplt\u001b[0m\u001b[0;34m\u001b[0m\u001b[0m\n\u001b[1;32m      4\u001b[0m \u001b[0;32mimport\u001b[0m \u001b[0mseaborn\u001b[0m \u001b[0;32mas\u001b[0m \u001b[0msns\u001b[0m\u001b[0;34m\u001b[0m\u001b[0m\n\u001b[0;32m----> 5\u001b[0;31m \u001b[0;32mimport\u001b[0m \u001b[0mfolium\u001b[0m\u001b[0;34m\u001b[0m\u001b[0m\n\u001b[0m\u001b[1;32m      6\u001b[0m \u001b[0;34m\u001b[0m\u001b[0m\n\u001b[1;32m      7\u001b[0m \u001b[0;32mfrom\u001b[0m \u001b[0mhelpers\u001b[0m\u001b[0;34m.\u001b[0m\u001b[0mMexico\u001b[0m \u001b[0;32mimport\u001b[0m \u001b[0mRepublica\u001b[0m\u001b[0;34m\u001b[0m\u001b[0m\n",
      "\u001b[0;31mModuleNotFoundError\u001b[0m: No module named 'folium'"
     ]
    }
   ],
   "source": [
    "import numpy as np\n",
    "import pandas as pd\n",
    "import matplotlib.pyplot as plt\n",
    "import seaborn as sns\n",
    "import folium\n",
    "\n",
    "from helpers.Mexico import Republica\n",
    "\n",
    "republica = Republica()\n",
    "\n",
    "sns.set_style(\"darkgrid\")"
   ]
  },
  {
   "cell_type": "markdown",
   "metadata": {},
   "source": [
    "El paquete de seaborn lo pueden instalar con pip3, al igual que folium. helpers.Mexico es un paquete que yo hice para ayudarles un poco, de ahí saco la clase `Republica`.\n",
    "\n",
    "De los paquetes necesarios, `Folium` es por mucho el más complejo. Permite hacer mapas interactivos en jupyter. Yo me he dado a la tarea de bajar del inegi las divisiones políticas del país y pasarlas a un formato que `Folium` entiende, conocido como topojson. El archivo se encuentra en el folder `helpers`. No es necesario que entiendan su contenido, pero yo les explicaré más adelante su uso.\n",
    "\n",
    "Carguemos rápidamente el csv de la actividad sísmica reportada por el SSN de la UNAM desde el 1 de Enero de 1990 hasta el 17 de Febrero del 2018. Además de cargar el csv, vamos a ver los primeros 5 renglones, para familiarizarnos con el formato:"
   ]
  },
  {
   "cell_type": "code",
   "execution_count": null,
   "metadata": {},
   "outputs": [],
   "source": [
    "#Definimos una lambda que convierta una cadena de caracteres en una etiqueta de tiempo.\n",
    "mConverters = {'Fecha y Hora': lambda x: pd.datetime.strptime(x, '%Y-%m-%d %H:%M:%S') }\n",
    "#Usamos la lambda para cargar el csv. Los nombres de las columnas son el primer renglón\n",
    "sismos = pd.read_csv('helpers/earthquakes.csv', index_col = 0, converters = mConverters)\n",
    "#Mostremos los primeros 5 renglones con la función head\n",
    "sismos.head()"
   ]
  },
  {
   "cell_type": "markdown",
   "metadata": {},
   "source": [
    "El csv es muy, muy sencillo. Contiene sólo 5 columnas: Magnitud, Latitud, Longitud, Profundidad y Fecha-Hora. Las primeras tres columnas son flotantes, mientras la quinta es una estampa de tiempo. Tendrán que aprender a usar estampas de tiempo pero yo les puedo ayudar."
   ]
  },
  {
   "cell_type": "markdown",
   "metadata": {},
   "source": [
    "## Ejercicio 1: Magnitud de los sismos"
   ]
  },
  {
   "cell_type": "markdown",
   "metadata": {},
   "source": [
    "Calculen las siguientes cantidades (explicando en su código cómo lo hacen):\n",
    "1. Cuenta total de sismos\n",
    "2. Rango de magnitud de los sismos\n",
    "3. Número de sismos por cada categoría, siendo las categorías {[1,2), [2,3),[3,4),[4,5),[5,6),[6,7),[7,8),[8,9)}\n",
    "3. Número de sismos en cada año, graficado como un histograma (¿Ha aumentado la actividad sísmica?)"
   ]
  },
  {
   "cell_type": "code",
   "execution_count": null,
   "metadata": {},
   "outputs": [],
   "source": [
    "'Cuenta total de sismos: {}'.format(len(sismos))"
   ]
  },
  {
   "cell_type": "code",
   "execution_count": null,
   "metadata": {},
   "outputs": [],
   "source": [
    "# Rango de magnitud de sismos:\n",
    "\n",
    "'El rango de los sismos registrados entre 1990 a 2018 es [{}, {}]'.format(sismos['Magnitud'].min(),\n",
    "                                                                          sismos['Magnitud'].max())"
   ]
  },
  {
   "cell_type": "code",
   "execution_count": null,
   "metadata": {},
   "outputs": [],
   "source": [
    "for i in range(1,9):\n",
    "    res = sismos[(sismos.Magnitud >=i) & (sismos.Magnitud < (i + 1))].count()\n",
    "    print('Número de sismos en rango [{0}, {1}): {2}'.format(i, i+1, res.Magnitud))"
   ]
  },
  {
   "cell_type": "code",
   "execution_count": null,
   "metadata": {
    "scrolled": false
   },
   "outputs": [],
   "source": [
    "% matplotlib notebook\n",
    "\n",
    "conteo_año = sismos.groupby(sismos['Fecha y Hora'].dt.year).count()\n",
    "conteo_año = conteo_año['Magnitud']\n",
    "\n",
    "fig = plt.figure(figsize=(6, 4))\n",
    "bars = plt.bar(conteo_año.index, conteo_año);\n",
    "ax = fig.gca();\n",
    "ax.set_ylabel('Conteo');\n",
    "ax.set_xlabel('Año');\n",
    "ax.set_title('Conteo de sismos detectados por año en México');"
   ]
  },
  {
   "cell_type": "markdown",
   "metadata": {},
   "source": [
    "## Ejercicio 2: Graficando en el mapa"
   ]
  },
  {
   "cell_type": "markdown",
   "metadata": {},
   "source": [
    "Para lo que viene, ustedes deben añadir una columna de nombre \"Estado\" al DataFrame `sismos`. Para ello, la variable `republica` declarada al principio del documento tiene una función llamada `estadoSegunPunto` que recibe como parámetros un par de números (latitud y longitud) y dice en qué estado de la república ocurrió el sismo (por ejemplo `republica.estadoSegunPunto(19,-100)`. La función devuelve `np.nan` si el punto no se encuentra dentro de un estado. Como ejercicio:\n",
    "\n",
    "1. Calculen el porcentaje de epicentros dentro del territorio mexicano (en este caso el mar no cuenta).\n",
    "2. Calculen cuántos sismos ocurrieron por estado.\n",
    "3. Determinen cual es el estado con menor actividad sísmica (en cuanto a epicentros) y cuál el de mayor\n",
    "4. Hagan un mapa de colores de la actividad sísmica por estado. Agarren buenos colores y usen una buena escala.\n",
    "\n",
    "Para el cuarto punto, utilicen `Folium`. Les dejo el tip: las funciones que necesitan son `folium.Map()` (que genera un objeto, llamémoslo `mexmap`) y la función `.choropleth` (miembro de `mexmap`). Hay ejemplos en internet de esto, pero si tienen dudas y están muy muy frustrados, mándenme un correo y les ayudo un poco. Para generar el _choropleth_, necesitan el archivo `helpers/mexican_states.geojson`, la función `choropleth` se los va a pedir pero no tienen que entender lo que hay dentro. Ah, eso sí, los nombres de los estados están etiquetados por el nombre \"NOM_ENT\" (`choropleth` se los va a pedir...)."
   ]
  },
  {
   "cell_type": "code",
   "execution_count": null,
   "metadata": {
    "collapsed": true
   },
   "outputs": [],
   "source": [
    "sismos['Lugar'] = sismos.apply(lambda x: republica.estadoSegunPunto(x['Latitud'], x['Longitud']), axis=1)"
   ]
  },
  {
   "cell_type": "code",
   "execution_count": null,
   "metadata": {},
   "outputs": [],
   "source": [
    "'Porcentaje de sismos en el territorio nacional: {}%'.format(sismos['Lugar'].count()*100/len(sismos))"
   ]
  },
  {
   "cell_type": "code",
   "execution_count": null,
   "metadata": {
    "scrolled": true
   },
   "outputs": [],
   "source": [
    "print('El número de sismos ocurridos en cada estado es:')\n",
    "conteo_estados = sismos['Lugar'].value_counts();\n",
    "conteo_estados = conteo_estados.to_frame().reset_index()\n",
    "conteo_estados = conteo_estados.rename(index=str, columns={\"index\": \"Estado\", \"Lugar\": \"Conteo\"})\n",
    "conteo_estados"
   ]
  },
  {
   "cell_type": "code",
   "execution_count": null,
   "metadata": {},
   "outputs": [],
   "source": [
    "print('El estado con mayor número de epicentros contados es: {}'.format(sismos['Lugar'].value_counts().idxmax()))\n",
    "print('El estado con menor número de epicentros contados es: {}'.format(sismos['Lugar'].value_counts().idxmin()))"
   ]
  },
  {
   "cell_type": "code",
   "execution_count": null,
   "metadata": {},
   "outputs": [],
   "source": [
    "m = folium.Map([24,-100], zoom_start=5)\n",
    "\n",
    "m.choropleth(\n",
    "    geo_data='helpers/mexican_states.geojson',\n",
    "    data=conteo_estados,\n",
    "    columns=['Estado', 'Conteo'],\n",
    "    key_on='feature.properties.NOM_ENT',\n",
    "    fill_color='YlOrRd')\n",
    "m"
   ]
  },
  {
   "cell_type": "markdown",
   "metadata": {},
   "source": [
    "## Ejercicio 3: Terremotos"
   ]
  },
  {
   "cell_type": "markdown",
   "metadata": {},
   "source": [
    "En este bloque:\n",
    "1. Calculen cuántos sismos de magnitud igual o mayor a 6.8 han ocurrido en los últimos 28 años\n",
    "2. Saquen la distancia temporal entre ellos, calculen su media y la desviación estándar (¿Algún patrón?)\n",
    "3. Verifiquen, con el coeficiente de correlación, si hay dependencia entre magnitud y profundidad de los terremotos\n",
    "4. **Colóquenlos en el mapa, de manera proporcional a la energía que liberaron** (un poco de ayuda después)\n",
    "\n",
    "La tarea de graficar esto no es tan sencilla, por fortuna seguimos utilizando `folium`.\n",
    "\n",
    "Para el 4to punto, necesito que hagan algo muy específico: La escala de Richter es una escala logaritmica de base 10, donde la magnitud $M_L$ se determina como.\n",
    "\n",
    "$M_L = log_{10}(\\frac{A}{A(\\delta})$\n",
    "\n",
    "siendo $A$ la amplitud registrada por un sismografo, y $A(\\delta)$ una función de amplitud de referencia con una compensación basada en la distanca del sismógrafo al epicentro del sismo $\\delta$. La relación de energía con la amplitud de una onda sismicaa es $E \\propto A^{3/2}$. Esto quiere decir que un sismo de 5 grados libera $\\approx 31.6$ veces menos energía que un sismo de 6 grados. Para graficar la localización y cantidad de energía liberada por estos sismos, hagan uso de la función \"CircleMarker\" de folium, y hagan una selección **adecuada** (en verdad enfatizo eso) del radio de los marcadores, sabiendo que lo que se busca es que los círculos representen la cantidad de energía liberada.\n",
    "\n",
    "Además les dejo una función que hace un gradiente lineal de color entre dos tripletes RGB (red green blue) entre dos escalas de sismos (por defecto, 6.8 un extremo y 8.2 el otro). La pueden utilizar para darle color a los círculos también (pueden modificar la función para usar los colores que quieran)"
   ]
  },
  {
   "cell_type": "code",
   "execution_count": null,
   "metadata": {
    "collapsed": true
   },
   "outputs": [],
   "source": [
    "def intensityColor(intensity, minVal = 6.8, maxVal = 8.2):\n",
    "    minimumColor, maximumColor = np.array([32, 193, 116]), np.array([243, 40, 40]) #par de tripletes RGB\n",
    "    #Garantiza que el número está en el rango\n",
    "    intensity = maxVal if intensity > maxVal else intensity\n",
    "    intensity = minVal if intensity < minVal else intensity\n",
    "    #Parametriza al intervalo 0,1\n",
    "    intensity = (intensity - minVal) / (maxVal-minVal)\n",
    "    #Asigna color linealmente\n",
    "    currentColor = np.floor(maximumColor*(intensity) + minimumColor * (1 - intensity)).astype(int)\n",
    "    #Regresa el color en formato hexadecimal, el cual CircleMarker entiende\n",
    "    return '#%02x%02x%02x' % tuple(currentColor)"
   ]
  },
  {
   "cell_type": "code",
   "execution_count": 138,
   "metadata": {},
   "outputs": [
    {
     "data": {
      "text/plain": [
       "'El número de sismos con intensidad mayor a 6.8 es: 20'"
      ]
     },
     "execution_count": 138,
     "metadata": {},
     "output_type": "execute_result"
    }
   ],
   "source": [
    "'El número de sismos con intensidad mayor a 6.8 es: {}'.format(sismos[sismos.Magnitud > 6.8].count()['Magnitud'])"
   ]
  },
  {
   "cell_type": "code",
   "execution_count": 139,
   "metadata": {
    "scrolled": false
   },
   "outputs": [
    {
     "name": "stdout",
     "output_type": "stream",
     "text": [
      "La distancia temporal entre sismos de magnitud mayor a 6.8 es:\n"
     ]
    },
    {
     "data": {
      "text/plain": [
       "103275                  NaT\n",
       "101987    733 days 18:51:36\n",
       "101838     25 days 01:31:21\n",
       "101763     11 days 11:03:04\n",
       "101525    127 days 00:29:21\n",
       "100789    321 days 17:20:07\n",
       "100484    109 days 16:09:10\n",
       "98310     775 days 09:04:28\n",
       "97990     106 days 19:49:09\n",
       "97008     313 days 19:10:34\n",
       "93522     895 days 13:24:47\n",
       "81966    2629 days 21:34:08\n",
       "73928     715 days 18:22:06\n",
       "70545     231 days 22:33:02\n",
       "62645     526 days 22:51:31\n",
       "60970      79 days 20:56:38\n",
       "23934    1072 days 20:05:04\n",
       "19741      85 days 21:20:15\n",
       "16699      11 days 13:25:22\n",
       "524       150 days 04:24:58\n",
       "Name: Fecha y Hora, dtype: timedelta64[ns]"
      ]
     },
     "execution_count": 139,
     "metadata": {},
     "output_type": "execute_result"
    }
   ],
   "source": [
    "sismos_fuertes = sismos[sismos.Magnitud > 6.8]\n",
    "print('La distancia temporal entre sismos de magnitud mayor a 6.8 es:')\n",
    "sismos_fuertes['Fecha y Hora'].iloc[::-1].diff(periods=1)"
   ]
  },
  {
   "cell_type": "code",
   "execution_count": 140,
   "metadata": {},
   "outputs": [
    {
     "name": "stdout",
     "output_type": "stream",
     "text": [
      "Media temporal de la separación: 469 days 17:55:05.315789\n",
      "Desviación estándar temporal de la separación: 620 days 21:16:23.997631\n",
      "Media magnitud de sismos fuertes: 7.264999999999999\n",
      "Desviación estándar de sismos fuertes: 0.3407036063331601\n"
     ]
    }
   ],
   "source": [
    "print('Media temporal de la separación: {}'.format(sismos_fuertes['Fecha y Hora'].iloc[::-1].diff(periods=1).mean()))\n",
    "print('Desviación estándar temporal de la separación: {}'.format(sismos_fuertes['Fecha y Hora'].iloc[::-1].diff(periods=1).std()))\n",
    "print('Media magnitud de sismos fuertes: {}'.format(sismos_fuertes['Magnitud'].mean()))\n",
    "print('Desviación estándar de sismos fuertes: {}'.format(sismos_fuertes['Magnitud'].std()))"
   ]
  },
  {
   "cell_type": "code",
   "execution_count": 141,
   "metadata": {},
   "outputs": [
    {
     "name": "stdout",
     "output_type": "stream",
     "text": [
      "La correlación para sismos fuertes entre profundidad y magnitud es: -0.16194437208911105\n",
      "La correlación para todos los sismos entre profundidad y magnitud es: 0.12929343367499696\n"
     ]
    }
   ],
   "source": [
    "print('La correlación para sismos fuertes entre profundidad y magnitud es: {}'.format(sismos_fuertes['Profundidad (km)'].corr(sismos_fuertes['Magnitud'])))\n",
    "print('La correlación para todos los sismos entre profundidad y magnitud es: {}'.format(sismos['Profundidad (km)'].corr(sismos['Magnitud'])))"
   ]
  },
  {
   "cell_type": "markdown",
   "metadata": {},
   "source": [
    "## Ejercicio 4: Buscando patrones antes de un evento de gran escala (medio difícil)"
   ]
  },
  {
   "cell_type": "markdown",
   "metadata": {},
   "source": [
    "En la siguiente parte, vamos a ver si, de manera sencilla, podemos encontrar patrones de comportamiento sísmico antes de un evento de gran escala (Terremoto de magnitud >= 7.0). Como primer ejercicio, encuentre cuántos sismos hay con dicha magnitud:\n",
    "\n",
    "1. Definan un intervalo de tiempo a analizar antes de un sismo de gran magnitud, por ejemplo, 24 horas ó 5 días (justifiquen su escala de tiempo)\n",
    "2. Para todos los sismos de magnitud igual o mayor a 7.0, grafiquen el comportamiento de la región (en un ángulo sólido prudente) en el periodo de tiempo que escogieron antes del sismo. Busquen si hay algún patrón evidente y concluyan.\n",
    "\n",
    "Como tip, la diferencia de dos estampas de tiempo genera un pd.Timedelta. La siguiente función puede tomar un arreglo ( o una serie) de `pd.Timedelta` para convertirlo en horas:"
   ]
  },
  {
   "cell_type": "code",
   "execution_count": null,
   "metadata": {
    "collapsed": true
   },
   "outputs": [],
   "source": [
    "toHours = np.vectorize(lambda x : x.total_seconds()/3600)"
   ]
  },
  {
   "cell_type": "markdown",
   "metadata": {},
   "source": [
    "Les va a ser mucho más fácil si trabajan en horas para este ejercicio."
   ]
  },
  {
   "cell_type": "code",
   "execution_count": null,
   "metadata": {
    "collapsed": true
   },
   "outputs": [],
   "source": [
    "#Respuestas a partir de aquí"
   ]
  },
  {
   "cell_type": "markdown",
   "metadata": {},
   "source": [
    "# Ejercicio 5: Qué más nos hace falta decir? (extra)"
   ]
  },
  {
   "cell_type": "markdown",
   "metadata": {},
   "source": [
    "En esta última parte, pueden hacer **lo que quieran** con los datos. Agruparlos, clasificarlos, tienen libertad de sacar conclusiones de los datos que les he dado, pueden hacer algo con los mapas o hacer histogramas, queda en ustedes :)"
   ]
  },
  {
   "cell_type": "code",
   "execution_count": null,
   "metadata": {
    "collapsed": true
   },
   "outputs": [],
   "source": [
    "#Código aquí (si así lo quieren)"
   ]
  }
 ],
 "metadata": {
  "kernelspec": {
   "display_name": "Python 3",
   "language": "python",
   "name": "python3"
  },
  "language_info": {
   "codemirror_mode": {
    "name": "ipython",
    "version": 3
   },
   "file_extension": ".py",
   "mimetype": "text/x-python",
   "name": "python",
   "nbconvert_exporter": "python",
   "pygments_lexer": "ipython3",
   "version": "3.6.3"
  }
 },
 "nbformat": 4,
 "nbformat_minor": 2
}
